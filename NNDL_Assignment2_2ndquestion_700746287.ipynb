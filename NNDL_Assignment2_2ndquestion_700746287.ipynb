{
  "nbformat": 4,
  "nbformat_minor": 0,
  "metadata": {
    "colab": {
      "provenance": [],
      "authorship_tag": "ABX9TyMaQX6G8u3HppXL3EeHp9Dn",
      "include_colab_link": true
    },
    "kernelspec": {
      "name": "python3",
      "display_name": "Python 3"
    },
    "language_info": {
      "name": "python"
    }
  },
  "cells": [
    {
      "cell_type": "markdown",
      "metadata": {
        "id": "view-in-github",
        "colab_type": "text"
      },
      "source": [
        "<a href=\"https://colab.research.google.com/github/NSnusha/NNDL_Assignment2/blob/main/NNDL_Assignment2_2ndquestion_700746287.ipynb\" target=\"_parent\"><img src=\"https://colab.research.google.com/assets/colab-badge.svg\" alt=\"Open In Colab\"/></a>"
      ]
    },
    {
      "cell_type": "code",
      "execution_count": null,
      "metadata": {
        "id": "OZukfQtQpJP4"
      },
      "outputs": [],
      "source": []
    },
    {
      "cell_type": "markdown",
      "source": [
        "# New Section"
      ],
      "metadata": {
        "id": "MPKADrN9pKVg"
      }
    },
    {
      "cell_type": "code",
      "source": [
        "import re\n",
        "freq_word = {}\n",
        "text_read= open('input.txt.txt', 'r')\n",
        "text_string = text_read.read().lower()\n",
        "match_pattern = re.findall(r'\\b[a-z]{3,15}\\b', text_string)\n",
        "for word in match_pattern:\n",
        "    count = freq_word.get(word,0)\n",
        "    freq_word[word] = count + 1\n",
        "\n",
        "frequency_list = freq_word.keys()\n",
        "\n",
        "f= open(\"output.txt\",\"w\")\n",
        "for words in frequency_list:\n",
        "    result= words + \" \" + str(freq_word[words])\n",
        "    f.write(result+\"\\n\")"
      ],
      "metadata": {
        "id": "Jax-9IgVpMBH"
      },
      "execution_count": 10,
      "outputs": []
    }
  ]
}