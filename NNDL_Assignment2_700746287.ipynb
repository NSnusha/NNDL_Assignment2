{
 "cells": [
  {
   "cell_type": "code",
   "execution_count": 26,
   "id": "d360e45e",
   "metadata": {},
   "outputs": [
    {
     "name": "stdout",
     "output_type": "stream",
     "text": [
      "Enter your first name:Snusha\n",
      "Enter the last name:Nakka\n",
      "your full name :SnushaNakka\n",
      "Go vnn\n"
     ]
    }
   ],
   "source": [
    "First_name=input(\"Enter your first name:\")\n",
    "last_name=input(\"Enter the last name:\")\n",
    "Full_name= First_name + last_name \n",
    "print(\"your full name :\" + Full_name)\n",
    "\n",
    "str = \"Good Evening\"\n",
    "\n",
    "def string_alernative(str):\n",
    "    Output=\"\"\n",
    "    for index,char in enumerate (str):\n",
    "        if index % 2 == 0: \n",
    "            Output += char\n",
    "    return Output\n",
    "\n",
    "result=string_alernative(str)\n",
    "print(result)"
   ]
  },
  {
   "cell_type": "code",
   "execution_count": 25,
   "id": "39236a11",
   "metadata": {},
   "outputs": [
    {
     "name": "stdout",
     "output_type": "stream",
     "text": [
      "150 145 130 156\n",
      "[59.06, 57.09, 51.18, 61.42]\n"
     ]
    }
   ],
   "source": [
    "lst=list(map(int,input().split(\" \")))\n",
    "lst1=[]\n",
    "for i in range(0,len(lst)):\n",
    "    lst1.append(lst[i]/2.54)\n",
    "for i in range(0,len(lst1)):\n",
    "    lst1[i]=round(lst1[i],2)\n",
    "print(lst1)\n"
   ]
  },
  {
   "cell_type": "code",
   "execution_count": null,
   "id": "1bea7831",
   "metadata": {},
   "outputs": [],
   "source": []
  },
  {
   "cell_type": "code",
   "execution_count": null,
   "id": "7670478d",
   "metadata": {},
   "outputs": [],
   "source": []
  }
 ],
 "metadata": {
  "kernelspec": {
   "display_name": "Python 3 (ipykernel)",
   "language": "python",
   "name": "python3"
  },
  "language_info": {
   "codemirror_mode": {
    "name": "ipython",
    "version": 3
   },
   "file_extension": ".py",
   "mimetype": "text/x-python",
   "name": "python",
   "nbconvert_exporter": "python",
   "pygments_lexer": "ipython3",
   "version": "3.10.9"
  }
 },
 "nbformat": 4,
 "nbformat_minor": 5
}
